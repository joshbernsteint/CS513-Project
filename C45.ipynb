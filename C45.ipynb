{
 "cells": [
  {
   "cell_type": "code",
   "execution_count": 19,
   "metadata": {},
   "outputs": [],
   "source": [
    "import pandas as pd\n",
    "from sklearn.model_selection import train_test_split\n",
    "from sklearn.tree import DecisionTreeClassifier\n",
    "from sklearn.metrics import confusion_matrix, classification_report\n",
    "import seaborn as sns\n",
    "import matplotlib.pyplot as plt\n",
    "from sklearn.tree import plot_tree"
   ]
  },
  {
   "cell_type": "code",
   "execution_count": 20,
   "metadata": {},
   "outputs": [
    {
     "data": {
      "text/plain": [
       "num_stars                    int64\n",
       "single_planet_exosystem       bool\n",
       "discoverymethod             object\n",
       "disc_year                    int64\n",
       "disc_facility               object\n",
       "                            ...   \n",
       "sy_kmagerr1                float64\n",
       "sy_kmagerr2                float64\n",
       "sy_gaiamag                 float64\n",
       "sy_gaiamagerr1             float64\n",
       "sy_gaiamagerr2             float64\n",
       "Length: 63, dtype: object"
      ]
     },
     "execution_count": 20,
     "metadata": {},
     "output_type": "execute_result"
    }
   ],
   "source": [
    "## import dataset\n",
    "df = pd.read_csv('./data/exoplanets-clean.csv')\n",
    "\n",
    "null_col_vals = df.isnull().sum().to_dict()\n",
    "NUM_ROWS = df.shape[0]\n",
    "\n",
    "thresholdAmount = 0.3 * NUM_ROWS\n",
    "\n",
    "dropped = []\n",
    "for key in null_col_vals:\n",
    "    if(null_col_vals[key] >= thresholdAmount):\n",
    "        dropped.append(key)\n",
    "\n",
    "df = df.drop(columns=dropped, axis=1)\n",
    "df = df.dropna()\n",
    "df.head()\n",
    "df.dtypes"
   ]
  },
  {
   "cell_type": "code",
   "execution_count": 21,
   "metadata": {},
   "outputs": [],
   "source": [
    "df['single_planet_exosystem'] = df['single_planet_exosystem'].map({True: 'Yes', False: 'No'})"
   ]
  },
  {
   "cell_type": "code",
   "execution_count": 22,
   "metadata": {},
   "outputs": [
    {
     "name": "stdout",
     "output_type": "stream",
     "text": [
      "single_planet_exosystem_Yes\n",
      "True     1674\n",
      "False    1408\n",
      "Name: count, dtype: int64\n",
      "single_planet_exosystem_Yes\n",
      "True     54.31538\n",
      "False    45.68462\n",
      "Name: count, dtype: float64\n"
     ]
    },
    {
     "data": {
      "image/png": "[encoded data removed]",
      "text/plain": [
       "<Figure size 640x480 with 1 Axes>"
      ]
     },
     "metadata": {},
     "output_type": "display_data"
    }
   ],
   "source": [
    "df_obj = df.select_dtypes(include='object')\n",
    "df_obj.head()\n",
    "\n",
    "df_obj= pd.get_dummies(df_obj, drop_first=True)\n",
    "df_obj.head()\n",
    "print(df_obj['single_planet_exosystem_Yes'].value_counts())\n",
    "print( (df_obj['single_planet_exosystem_Yes'].value_counts()/ df_obj['single_planet_exosystem_Yes'].value_counts().sum()) * 100)\n",
    "sns.countplot(data=df_obj, x='single_planet_exosystem_Yes')\n",
    "\n",
    "dictMethod = {}\n",
    "count = 0\n",
    "for value in df['discoverymethod']:\n",
    "    if value not in dictMethod:\n",
    "        dictMethod[value] = count\n",
    "        count+=1\n",
    "df['discoverymethod'] = df['discoverymethod'].map(dictMethod)\n",
    "\n",
    "dictFac = {}\n",
    "count2 = 0\n",
    "for value in df['disc_facility']:\n",
    "    if value not in dictFac:\n",
    "        dictFac[value] = count2\n",
    "        count2+=1\n",
    "df['disc_facility'] = df['disc_facility'].map(dictFac)\n",
    "\n",
    "#df['single_planet_exosystem'] = df['single_planet_exosystem'].map({True: 0, False: 1})\n",
    "\n",
    "dictBmass = {}\n",
    "count3 = 0\n",
    "for value in df['pl_bmassprov']:\n",
    "    if value not in dictBmass:\n",
    "        dictBmass[value] = count3\n",
    "        count3+=1\n",
    "df['pl_bmassprov'] = df['pl_bmassprov'].map(dictBmass)\n",
    "\n",
    "dictMratio = {}\n",
    "count4 = 0\n",
    "for value in df['st_metratio']:\n",
    "    if value not in dictMratio:\n",
    "        dictMratio[value] = count4\n",
    "        count4+=1\n",
    "df['st_metratio'] = df['st_metratio'].map(dictMratio)\n"
   ]
  },
  {
   "cell_type": "code",
   "execution_count": 58,
   "metadata": {},
   "outputs": [],
   "source": [
    "#using the 16 most signifigant features from random forest as the features - all over .02 feature score\n",
    "attr = df[['disc_year', 'st_loggerr1', 'st_loggerr2', 'pl_bmassj', 'pl_radj', 'st_meterr1', 'st_raderr2', 'pl_rade', 'st_meterr2', 'pl_bmasse', 'sy_dist', 'pl_orbpererr1', 'sy_disterr1', 'pl_orbpererr2', 'st_tefferr1', 'st_metratio']]\n",
    "target = df['single_planet_exosystem']\n",
    "\n",
    "# Split the data into training and testing sets\n",
    "attr_train, attr_test, target_train, target_test = train_test_split(attr, target, test_size=0.3, random_state=7)"
   ]
  },
  {
   "cell_type": "code",
   "execution_count": null,
   "metadata": {},
   "outputs": [
    {
     "name": "stdout",
     "output_type": "stream",
     "text": [
      "\n",
      " Accuracy: 0.7610810810810811  \n",
      "\n",
      " Confusion Matrix:\n",
      "[[228 200]\n",
      " [ 21 476]]\n",
      "\n",
      " Classification Report:\n",
      "              precision    recall  f1-score   support\n",
      "\n",
      "          No       0.92      0.53      0.67       428\n",
      "         Yes       0.70      0.96      0.81       497\n",
      "\n",
      "    accuracy                           0.76       925\n",
      "   macro avg       0.81      0.75      0.74       925\n",
      "weighted avg       0.80      0.76      0.75       925\n",
      "\n"
     ]
    }
   ],
   "source": [
    "\n",
    "from sklearn.metrics import confusion_matrix, classification_report, accuracy_score\n",
    "from C45 import C45Classifier\n",
    "\n",
    "clf=C45Classifier()\n",
    "# Train the classifier\n",
    "clf.fit(attr_train,target_train)\n",
    "target_pred2 = clf.predict(attr_test)\n",
    "print(f\"\\n Accuracy: {accuracy_score(target_test,target_pred2)}  \")\n",
    "\n",
    "print(f\"\\n Confusion Matrix:\") \n",
    "print(confusion_matrix(target_test,target_pred2))\n",
    "print(f\"\\n Classification Report:\")\n",
    "print(classification_report(target_test,target_pred2))"
   ]
  },
  {
   "cell_type": "code",
   "execution_count": 60,
   "metadata": {},
   "outputs": [
    {
     "name": "stdout",
     "output_type": "stream",
     "text": [
      "\n",
      " Accuracy: 0.5589189189189189  \n",
      "\n",
      " Confusion Matrix:\n",
      "[[ 23 405]\n",
      " [  3 494]]\n",
      "\n",
      " Classification Report:\n",
      "              precision    recall  f1-score   support\n",
      "\n",
      "          No       0.88      0.05      0.10       428\n",
      "         Yes       0.55      0.99      0.71       497\n",
      "\n",
      "    accuracy                           0.56       925\n",
      "   macro avg       0.72      0.52      0.40       925\n",
      "weighted avg       0.70      0.56      0.43       925\n",
      "\n"
     ]
    }
   ],
   "source": [
    "#using all the columns as features except the target one\n",
    "attr = df.drop('single_planet_exosystem', axis=1)\n",
    "target = df['single_planet_exosystem']\n",
    "\n",
    "# Split the data into training and testing sets\n",
    "attr_train, attr_test, target_train, target_test = train_test_split(attr, target, test_size=0.3, random_state=7)\n",
    "\n",
    "clf=C45Classifier()\n",
    "# Train the classifier\n",
    "clf.fit(attr_train,target_train)\n",
    "target_pred2 = clf.predict(attr_test)\n",
    "print(f\"\\n Accuracy: {accuracy_score(target_test,target_pred2)}  \")\n",
    "\n",
    "print(f\"\\n Confusion Matrix:\") \n",
    "print(confusion_matrix(target_test,target_pred2))\n",
    "print(f\"\\n Classification Report:\")\n",
    "print(classification_report(target_test,target_pred2))"
   ]
  },
  {
   "cell_type": "markdown",
   "metadata": {},
   "source": []
  },
  {
   "cell_type": "code",
   "execution_count": null,
   "metadata": {},
   "outputs": [],
   "source": []
  }
 ],
 "metadata": {
  "kernelspec": {
   "display_name": "myproject_kernel",
   "language": "python",
   "name": "myproject_kernel"
  },
  "language_info": {
   "codemirror_mode": {
    "name": "ipython",
    "version": 3
   },
   "file_extension": ".py",
   "mimetype": "text/x-python",
   "name": "python",
   "nbconvert_exporter": "python",
   "pygments_lexer": "ipython3",
   "version": "3.11.2"
  }
 },
 "nbformat": 4,
 "nbformat_minor": 2
}
