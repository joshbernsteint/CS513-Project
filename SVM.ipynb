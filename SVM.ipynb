{
 "cells": [
  {
   "cell_type": "code",
   "execution_count": 1,
   "metadata": {},
   "outputs": [],
   "source": [
    "import numpy as np\n",
    "import pandas as pd\n",
    "from sklearn.model_selection import train_test_split\n",
    "from sklearn.preprocessing import StandardScaler\n",
    "\n",
    "\n",
    "# import metrics to compute accuracy\n",
    "from sklearn.metrics import accuracy_score, classification_report,confusion_matrix\n",
    "\n",
    "from sklearn.svm import SVC"
   ]
  },
  {
   "cell_type": "code",
   "execution_count": 2,
   "metadata": {},
   "outputs": [
    {
     "data": {
      "text/plain": [
       "num_stars                    int64\n",
       "single_planet_exosystem       bool\n",
       "discoverymethod             object\n",
       "disc_year                    int64\n",
       "disc_facility               object\n",
       "                            ...   \n",
       "sy_kmagerr1                float64\n",
       "sy_kmagerr2                float64\n",
       "sy_gaiamag                 float64\n",
       "sy_gaiamagerr1             float64\n",
       "sy_gaiamagerr2             float64\n",
       "Length: 63, dtype: object"
      ]
     },
     "execution_count": 2,
     "metadata": {},
     "output_type": "execute_result"
    }
   ],
   "source": [
    "## import dataset\n",
    "df = pd.read_csv('./data/exoplanets-clean.csv')\n",
    "\n",
    "null_col_vals = df.isnull().sum().to_dict()\n",
    "NUM_ROWS = df.shape[0]\n",
    "\n",
    "thresholdAmount = 0.3 * NUM_ROWS\n",
    "\n",
    "dropped = []\n",
    "for key in null_col_vals:\n",
    "    if(null_col_vals[key] >= thresholdAmount):\n",
    "        dropped.append(key)\n",
    "\n",
    "df = df.drop(columns=dropped, axis=1)\n",
    "df = df.dropna()\n",
    "df.head()\n",
    "df.dtypes"
   ]
  },
  {
   "cell_type": "code",
   "execution_count": 3,
   "metadata": {},
   "outputs": [
    {
     "name": "stdout",
     "output_type": "stream",
     "text": [
      "Index(['discoverymethod', 'disc_facility', 'pl_bmassprov', 'st_metratio'], dtype='object')\n"
     ]
    }
   ],
   "source": [
    "categorical_columns = df.select_dtypes(include=['object']).columns\n",
    "print(categorical_columns)"
   ]
  },
  {
   "cell_type": "code",
   "execution_count": 4,
   "metadata": {},
   "outputs": [
    {
     "data": {
      "text/plain": [
       "num_stars                    int64\n",
       "single_planet_exosystem       bool\n",
       "discoverymethod              int64\n",
       "disc_year                    int64\n",
       "disc_facility                int64\n",
       "                            ...   \n",
       "sy_kmagerr1                float64\n",
       "sy_kmagerr2                float64\n",
       "sy_gaiamag                 float64\n",
       "sy_gaiamagerr1             float64\n",
       "sy_gaiamagerr2             float64\n",
       "Length: 63, dtype: object"
      ]
     },
     "execution_count": 4,
     "metadata": {},
     "output_type": "execute_result"
    }
   ],
   "source": [
    "#Converting Strings to numbers\n",
    "dictMethod = {}\n",
    "count = 0\n",
    "for value in df['discoverymethod']:\n",
    "    if value not in dictMethod:\n",
    "        dictMethod[value] = count\n",
    "        count+=1\n",
    "df['discoverymethod'] = df['discoverymethod'].map(dictMethod)\n",
    "\n",
    "dictFac = {}\n",
    "count2 = 0\n",
    "for value in df['disc_facility']:\n",
    "    if value not in dictFac:\n",
    "        dictFac[value] = count2\n",
    "        count2+=1\n",
    "df['disc_facility'] = df['disc_facility'].map(dictFac)\n",
    "\n",
    "#df['single_planet_exosystem'] = df['single_planet_exosystem'].map({True: 0, False: 1})\n",
    "\n",
    "dictBmass = {}\n",
    "count3 = 0\n",
    "for value in df['pl_bmassprov']:\n",
    "    if value not in dictBmass:\n",
    "        dictBmass[value] = count3\n",
    "        count3+=1\n",
    "df['pl_bmassprov'] = df['pl_bmassprov'].map(dictBmass)\n",
    "\n",
    "dictMratio = {}\n",
    "count4 = 0\n",
    "for value in df['st_metratio']:\n",
    "    if value not in dictMratio:\n",
    "        dictMratio[value] = count4\n",
    "        count4+=1\n",
    "df['st_metratio'] = df['st_metratio'].map(dictMratio)\n",
    "\n",
    "df.dtypes"
   ]
  },
  {
   "cell_type": "code",
   "execution_count": 5,
   "metadata": {},
   "outputs": [],
   "source": [
    "attr = df.drop('single_planet_exosystem', axis=1)\n",
    "target = df['single_planet_exosystem']"
   ]
  },
  {
   "cell_type": "code",
   "execution_count": 6,
   "metadata": {},
   "outputs": [
    {
     "data": {
      "text/html": [
       "<div>\n",
       "<style scoped>\n",
       "    .dataframe tbody tr th:only-of-type {\n",
       "        vertical-align: middle;\n",
       "    }\n",
       "\n",
       "    .dataframe tbody tr th {\n",
       "        vertical-align: top;\n",
       "    }\n",
       "\n",
       "    .dataframe thead th {\n",
       "        text-align: right;\n",
       "    }\n",
       "</style>\n",
       "<table border=\"1\" class=\"dataframe\">\n",
       "  <thead>\n",
       "    <tr style=\"text-align: right;\">\n",
       "      <th></th>\n",
       "      <th>num_stars</th>\n",
       "      <th>discoverymethod</th>\n",
       "      <th>disc_year</th>\n",
       "      <th>disc_facility</th>\n",
       "      <th>pl_controv_flag</th>\n",
       "      <th>pl_orbper</th>\n",
       "      <th>pl_orbpererr1</th>\n",
       "      <th>pl_orbpererr2</th>\n",
       "      <th>pl_orbperlim</th>\n",
       "      <th>pl_orbsmax</th>\n",
       "      <th>...</th>\n",
       "      <th>sy_disterr2</th>\n",
       "      <th>sy_vmag</th>\n",
       "      <th>sy_vmagerr1</th>\n",
       "      <th>sy_vmagerr2</th>\n",
       "      <th>sy_kmag</th>\n",
       "      <th>sy_kmagerr1</th>\n",
       "      <th>sy_kmagerr2</th>\n",
       "      <th>sy_gaiamag</th>\n",
       "      <th>sy_gaiamagerr1</th>\n",
       "      <th>sy_gaiamagerr2</th>\n",
       "    </tr>\n",
       "  </thead>\n",
       "  <tbody>\n",
       "    <tr>\n",
       "      <th>0</th>\n",
       "      <td>6.594629</td>\n",
       "      <td>-10.419886</td>\n",
       "      <td>-0.435683</td>\n",
       "      <td>-2.394081</td>\n",
       "      <td>-0.054118</td>\n",
       "      <td>15.699378</td>\n",
       "      <td>16.735310</td>\n",
       "      <td>-17.231348</td>\n",
       "      <td>0.018016</td>\n",
       "      <td>17.188149</td>\n",
       "      <td>...</td>\n",
       "      <td>0.478825</td>\n",
       "      <td>-3.941650</td>\n",
       "      <td>-0.692306</td>\n",
       "      <td>0.692306</td>\n",
       "      <td>-3.406166</td>\n",
       "      <td>-0.044412</td>\n",
       "      <td>0.044412</td>\n",
       "      <td>-3.910218</td>\n",
       "      <td>3.401583</td>\n",
       "      <td>-3.401583</td>\n",
       "    </tr>\n",
       "    <tr>\n",
       "      <th>1</th>\n",
       "      <td>3.168357</td>\n",
       "      <td>-5.128390</td>\n",
       "      <td>-6.159879</td>\n",
       "      <td>-2.267215</td>\n",
       "      <td>-0.054118</td>\n",
       "      <td>-0.058864</td>\n",
       "      <td>-0.033834</td>\n",
       "      <td>0.034695</td>\n",
       "      <td>0.018016</td>\n",
       "      <td>-0.071702</td>\n",
       "      <td>...</td>\n",
       "      <td>0.481777</td>\n",
       "      <td>-3.596680</td>\n",
       "      <td>-0.692306</td>\n",
       "      <td>0.692306</td>\n",
       "      <td>-3.658100</td>\n",
       "      <td>0.022152</td>\n",
       "      <td>-0.022152</td>\n",
       "      <td>-3.639492</td>\n",
       "      <td>0.735722</td>\n",
       "      <td>-0.735722</td>\n",
       "    </tr>\n",
       "    <tr>\n",
       "      <th>2</th>\n",
       "      <td>3.168357</td>\n",
       "      <td>-5.128390</td>\n",
       "      <td>-3.749691</td>\n",
       "      <td>-2.140348</td>\n",
       "      <td>-0.054118</td>\n",
       "      <td>-0.077648</td>\n",
       "      <td>-0.033834</td>\n",
       "      <td>0.034695</td>\n",
       "      <td>0.018016</td>\n",
       "      <td>-0.200901</td>\n",
       "      <td>...</td>\n",
       "      <td>0.481777</td>\n",
       "      <td>-3.596680</td>\n",
       "      <td>-0.692306</td>\n",
       "      <td>0.692306</td>\n",
       "      <td>-3.658100</td>\n",
       "      <td>0.022152</td>\n",
       "      <td>-0.022152</td>\n",
       "      <td>-3.639492</td>\n",
       "      <td>0.735722</td>\n",
       "      <td>-0.735722</td>\n",
       "    </tr>\n",
       "    <tr>\n",
       "      <th>3</th>\n",
       "      <td>-0.257915</td>\n",
       "      <td>0.163106</td>\n",
       "      <td>1.070684</td>\n",
       "      <td>-2.013482</td>\n",
       "      <td>-0.054118</td>\n",
       "      <td>-0.067218</td>\n",
       "      <td>-0.033834</td>\n",
       "      <td>0.034695</td>\n",
       "      <td>0.018016</td>\n",
       "      <td>-0.135669</td>\n",
       "      <td>...</td>\n",
       "      <td>0.481986</td>\n",
       "      <td>-2.262638</td>\n",
       "      <td>-0.105224</td>\n",
       "      <td>0.105224</td>\n",
       "      <td>-3.410028</td>\n",
       "      <td>-0.066599</td>\n",
       "      <td>0.066599</td>\n",
       "      <td>-2.639947</td>\n",
       "      <td>0.513506</td>\n",
       "      <td>-0.513506</td>\n",
       "    </tr>\n",
       "    <tr>\n",
       "      <th>4</th>\n",
       "      <td>-0.257915</td>\n",
       "      <td>0.163106</td>\n",
       "      <td>1.371957</td>\n",
       "      <td>-2.013482</td>\n",
       "      <td>-0.054118</td>\n",
       "      <td>-0.053183</td>\n",
       "      <td>-0.033834</td>\n",
       "      <td>0.034695</td>\n",
       "      <td>0.018016</td>\n",
       "      <td>-0.075132</td>\n",
       "      <td>...</td>\n",
       "      <td>0.481986</td>\n",
       "      <td>-2.262638</td>\n",
       "      <td>-0.105224</td>\n",
       "      <td>0.105224</td>\n",
       "      <td>-3.410028</td>\n",
       "      <td>-0.066599</td>\n",
       "      <td>0.066599</td>\n",
       "      <td>-2.639947</td>\n",
       "      <td>0.513506</td>\n",
       "      <td>-0.513506</td>\n",
       "    </tr>\n",
       "  </tbody>\n",
       "</table>\n",
       "<p>5 rows × 62 columns</p>\n",
       "</div>"
      ],
      "text/plain": [
       "   num_stars  discoverymethod  disc_year  disc_facility  pl_controv_flag  \\\n",
       "0   6.594629       -10.419886  -0.435683      -2.394081        -0.054118   \n",
       "1   3.168357        -5.128390  -6.159879      -2.267215        -0.054118   \n",
       "2   3.168357        -5.128390  -3.749691      -2.140348        -0.054118   \n",
       "3  -0.257915         0.163106   1.070684      -2.013482        -0.054118   \n",
       "4  -0.257915         0.163106   1.371957      -2.013482        -0.054118   \n",
       "\n",
       "   pl_orbper  pl_orbpererr1  pl_orbpererr2  pl_orbperlim  pl_orbsmax  ...  \\\n",
       "0  15.699378      16.735310     -17.231348      0.018016   17.188149  ...   \n",
       "1  -0.058864      -0.033834       0.034695      0.018016   -0.071702  ...   \n",
       "2  -0.077648      -0.033834       0.034695      0.018016   -0.200901  ...   \n",
       "3  -0.067218      -0.033834       0.034695      0.018016   -0.135669  ...   \n",
       "4  -0.053183      -0.033834       0.034695      0.018016   -0.075132  ...   \n",
       "\n",
       "   sy_disterr2   sy_vmag  sy_vmagerr1  sy_vmagerr2   sy_kmag  sy_kmagerr1  \\\n",
       "0     0.478825 -3.941650    -0.692306     0.692306 -3.406166    -0.044412   \n",
       "1     0.481777 -3.596680    -0.692306     0.692306 -3.658100     0.022152   \n",
       "2     0.481777 -3.596680    -0.692306     0.692306 -3.658100     0.022152   \n",
       "3     0.481986 -2.262638    -0.105224     0.105224 -3.410028    -0.066599   \n",
       "4     0.481986 -2.262638    -0.105224     0.105224 -3.410028    -0.066599   \n",
       "\n",
       "   sy_kmagerr2  sy_gaiamag  sy_gaiamagerr1  sy_gaiamagerr2  \n",
       "0     0.044412   -3.910218        3.401583       -3.401583  \n",
       "1    -0.022152   -3.639492        0.735722       -0.735722  \n",
       "2    -0.022152   -3.639492        0.735722       -0.735722  \n",
       "3     0.066599   -2.639947        0.513506       -0.513506  \n",
       "4     0.066599   -2.639947        0.513506       -0.513506  \n",
       "\n",
       "[5 rows x 62 columns]"
      ]
     },
     "execution_count": 6,
     "metadata": {},
     "output_type": "execute_result"
    }
   ],
   "source": [
    "from sklearn.preprocessing import StandardScaler, OneHotEncoder\n",
    "scaler = StandardScaler()\n",
    "\n",
    "# Fit and transform the data\n",
    "attr = pd.DataFrame(scaler.fit_transform(attr), columns=attr.columns)\n",
    "attr.head()\n"
   ]
  },
  {
   "cell_type": "code",
   "execution_count": 7,
   "metadata": {},
   "outputs": [
    {
     "data": {
      "text/plain": [
       "2288    False\n",
       "2172     True\n",
       "2349     True\n",
       "343      True\n",
       "4000     True\n",
       "Name: single_planet_exosystem, dtype: bool"
      ]
     },
     "execution_count": 7,
     "metadata": {},
     "output_type": "execute_result"
    }
   ],
   "source": [
    "attr_train, attr_test, target_train,target_test  = train_test_split(attr, target,test_size = 0.25, random_state = 7, shuffle = True)\n",
    "target_train.head()\n",
    "# attr_train.head()\n",
    "target_test.head()"
   ]
  },
  {
   "cell_type": "code",
   "execution_count": 8,
   "metadata": {},
   "outputs": [
    {
     "name": "stdout",
     "output_type": "stream",
     "text": [
      "Model accuracy score with default hyperparameters: 0.8262\n",
      "\n",
      "Classification Report\n",
      "              precision    recall  f1-score   support\n",
      "\n",
      "       False       0.88      0.72      0.79       358\n",
      "        True       0.79      0.92      0.85       413\n",
      "\n",
      "    accuracy                           0.83       771\n",
      "   macro avg       0.84      0.82      0.82       771\n",
      "weighted avg       0.83      0.83      0.82       771\n",
      "\n",
      "\n",
      "Confusion Matrix\n",
      "[[259  99]\n",
      " [ 35 378]]\n"
     ]
    }
   ],
   "source": [
    "# import SVM classifier\n",
    "from sklearn.svm import SVC\n",
    "\n",
    "# import metrics to compute accuracy\n",
    "from sklearn.metrics import accuracy_score\n",
    "\n",
    "\n",
    "# instantiate classifier \n",
    "svc=SVC() \n",
    "\n",
    "# fit classifier to training set\n",
    "svc.fit(attr_train,target_train)\n",
    "\n",
    "\n",
    "# make predictions on test set\n",
    "target_pred=svc.predict(attr_test)\n",
    "\n",
    "\n",
    "# compute and print accuracy score\n",
    "print('Model accuracy score with default hyperparameters: {0:0.4f}'. format(accuracy_score(target_test, target_pred)))\n",
    "print()\n",
    "print('Classification Report')\n",
    "print(classification_report(target_test, target_pred))\n",
    "print()\n",
    "print('Confusion Matrix')\n",
    "print(confusion_matrix(target_test, target_pred))"
   ]
  },
  {
   "cell_type": "code",
   "execution_count": 5,
   "metadata": {},
   "outputs": [],
   "source": [
    "import numpy as np\n",
    "matrix = np.array([\n",
    "    [162, 266], \n",
    "    [41, 456]\n",
    "])\n",
    "\n",
    "import matplotlib.pyplot as plt\n",
    "import seaborn as sns"
   ]
  },
  {
   "cell_type": "code",
   "execution_count": 6,
   "metadata": {},
   "outputs": [
    {
     "data": {
      "text/plain": [
       "[Text(0, 0.5, 'Alone'), Text(0, 1.5, 'Not Alone')]"
      ]
     },
     "execution_count": 6,
     "metadata": {},
     "output_type": "execute_result"
    },
    {
     "data": {
      "image/png": "[encoded data removed]",
      "text/plain": [
       "<Figure size 640x480 with 2 Axes>"
      ]
     },
     "metadata": {},
     "output_type": "display_data"
    }
   ],
   "source": [
    "ax= plt.subplot()\n",
    "sns.heatmap(matrix, annot=True, fmt='g', ax=ax);  #annot=True to annotate cells, ftm='g' to disable scientific notation\n",
    "\n",
    "# labels, title and ticks\n",
    "ax.set_xlabel('Predicted labels');ax.set_ylabel('True labels'); \n",
    "ax.set_title('Confusion Matrix'); \n",
    "\n",
    "ax.xaxis.set_ticklabels(['Alone', 'Not Alone'])\n",
    "ax.yaxis.set_ticklabels(['Alone', 'Not Alone'])"
   ]
  },
  {
   "cell_type": "code",
   "execution_count": null,
   "metadata": {},
   "outputs": [],
   "source": []
  }
 ],
 "metadata": {
  "kernelspec": {
   "display_name": "Python 3",
   "language": "python",
   "name": "python3"
  },
  "language_info": {
   "codemirror_mode": {
    "name": "ipython",
    "version": 3
   },
   "file_extension": ".py",
   "mimetype": "text/x-python",
   "name": "python",
   "nbconvert_exporter": "python",
   "pygments_lexer": "ipython3",
   "version": "3.12.0"
  }
 },
 "nbformat": 4,
 "nbformat_minor": 2
}
