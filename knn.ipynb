{
 "cells": [
  {
   "cell_type": "code",
   "execution_count": 1,
   "id": "00b95d4a",
   "metadata": {},
   "outputs": [],
   "source": [
    "import numpy as np\n",
    "import pandas as pd\n",
    "from sklearn.model_selection import train_test_split\n",
    "from sklearn.neighbors import KNeighborsClassifier"
   ]
  },
  {
   "cell_type": "code",
   "execution_count": 2,
   "id": "6dfc010b",
   "metadata": {},
   "outputs": [
    {
     "data": {
      "text/plain": [
       "num_stars                    int64\n",
       "single_planet_exosystem       bool\n",
       "discoverymethod             object\n",
       "disc_year                    int64\n",
       "disc_facility               object\n",
       "                            ...   \n",
       "sy_kmagerr1                float64\n",
       "sy_kmagerr2                float64\n",
       "sy_gaiamag                 float64\n",
       "sy_gaiamagerr1             float64\n",
       "sy_gaiamagerr2             float64\n",
       "Length: 63, dtype: object"
      ]
     },
     "execution_count": 2,
     "metadata": {},
     "output_type": "execute_result"
    }
   ],
   "source": [
    "## import dataset\n",
    "df = pd.read_csv('./data/exoplanets-clean.csv')\n",
    "\n",
    "null_col_vals = df.isnull().sum().to_dict()\n",
    "NUM_ROWS = df.shape[0]\n",
    "\n",
    "thresholdAmount = 0.3 * NUM_ROWS\n",
    "\n",
    "dropped = []\n",
    "for key in null_col_vals:\n",
    "    if(null_col_vals[key] >= thresholdAmount):\n",
    "        dropped.append(key)\n",
    "\n",
    "df = df.drop(columns=dropped, axis=1)\n",
    "df = df.dropna()\n",
    "df.head()\n",
    "df.dtypes"
   ]
  },
  {
   "cell_type": "code",
   "execution_count": 3,
   "id": "b6590a64",
   "metadata": {},
   "outputs": [
    {
     "data": {
      "text/plain": [
       "num_stars                    int64\n",
       "single_planet_exosystem       bool\n",
       "discoverymethod              int64\n",
       "disc_year                    int64\n",
       "disc_facility                int64\n",
       "                            ...   \n",
       "sy_kmagerr1                float64\n",
       "sy_kmagerr2                float64\n",
       "sy_gaiamag                 float64\n",
       "sy_gaiamagerr1             float64\n",
       "sy_gaiamagerr2             float64\n",
       "Length: 63, dtype: object"
      ]
     },
     "execution_count": 3,
     "metadata": {},
     "output_type": "execute_result"
    }
   ],
   "source": [
    "#Converting Strings to numbers\n",
    "dictMethod = {}\n",
    "count = 0\n",
    "for value in df['discoverymethod']:\n",
    "    if value not in dictMethod:\n",
    "        dictMethod[value] = count\n",
    "        count+=1\n",
    "df['discoverymethod'] = df['discoverymethod'].map(dictMethod)\n",
    "\n",
    "dictFac = {}\n",
    "count2 = 0\n",
    "for value in df['disc_facility']:\n",
    "    if value not in dictFac:\n",
    "        dictFac[value] = count2\n",
    "        count2+=1\n",
    "df['disc_facility'] = df['disc_facility'].map(dictFac)\n",
    "\n",
    "#df['single_planet_exosystem'] = df['single_planet_exosystem'].map({True: 0, False: 1})\n",
    "\n",
    "dictBmass = {}\n",
    "count3 = 0\n",
    "for value in df['pl_bmassprov']:\n",
    "    if value not in dictBmass:\n",
    "        dictBmass[value] = count3\n",
    "        count3+=1\n",
    "df['pl_bmassprov'] = df['pl_bmassprov'].map(dictBmass)\n",
    "\n",
    "dictMratio = {}\n",
    "count4 = 0\n",
    "for value in df['st_metratio']:\n",
    "    if value not in dictMratio:\n",
    "        dictMratio[value] = count4\n",
    "        count4+=1\n",
    "df['st_metratio'] = df['st_metratio'].map(dictMratio)\n",
    "\n",
    "df.dtypes\n"
   ]
  },
  {
   "cell_type": "code",
   "execution_count": 9,
   "id": "7c1a96e9",
   "metadata": {},
   "outputs": [],
   "source": [
    "# Splitting the dataset\n",
    "attr = df.drop('single_planet_exosystem', axis=1)\n",
    "target = df['single_planet_exosystem']\n",
    "#attr.head()\n",
    "# target.head()\n",
    "#attr_train, attr_test, target_train,target_test  = train_test_split(attr, target,test_size = 0.25, random_state = 44, shuffle = True)\n",
    "# target_train.head()\n",
    "#attr_train.head()\n",
    "# target_test.head()\n"
   ]
  },
  {
   "cell_type": "code",
   "execution_count": 5,
   "id": "e37b6e3e",
   "metadata": {},
   "outputs": [],
   "source": [
    "# from sklearn.preprocessing import MinMaxScaler\n",
    "# # Initialize MinMaxScaler\n",
    "# scaler = MinMaxScaler()\n",
    "# # Fit and transform the data\n",
    "# attr = pd.DataFrame(scaler.fit_transform(attr), columns=attr.columns)\n",
    "# attr.head()"
   ]
  },
  {
   "cell_type": "code",
   "execution_count": 6,
   "id": "1e7efc59",
   "metadata": {},
   "outputs": [
    {
     "name": "stdout",
     "output_type": "stream",
     "text": [
      "num_stars            int64\n",
      "discoverymethod      int64\n",
      "disc_year            int64\n",
      "disc_facility        int64\n",
      "pl_controv_flag      int64\n",
      "                    ...   \n",
      "sy_kmagerr1        float64\n",
      "sy_kmagerr2        float64\n",
      "sy_gaiamag         float64\n",
      "sy_gaiamagerr1     float64\n",
      "sy_gaiamagerr2     float64\n",
      "Length: 62, dtype: object\n",
      "bool\n"
     ]
    }
   ],
   "source": [
    "\n",
    "attr_train, attr_test, target_train,target_test  = train_test_split(attr, target,test_size = 0.3, random_state = 3, shuffle = True)\n",
    "target_train.head()\n",
    "# attr_train.head()\n",
    "target_test.head()\n",
    "print(attr_train.dtypes)\n",
    "print(target_train.dtypes)"
   ]
  },
  {
   "cell_type": "code",
   "execution_count": 7,
   "id": "9b4a2ffb",
   "metadata": {},
   "outputs": [
    {
     "name": "stdout",
     "output_type": "stream",
     "text": [
      "Accuracy of model with k = 1: 0.7416216216216216%\n",
      "\n",
      "\n",
      "[[362  65]\n",
      " [174 324]]\n",
      "              precision    recall  f1-score   support\n",
      "\n",
      "       False       0.68      0.85      0.75       427\n",
      "        True       0.83      0.65      0.73       498\n",
      "\n",
      "    accuracy                           0.74       925\n",
      "   macro avg       0.75      0.75      0.74       925\n",
      "weighted avg       0.76      0.74      0.74       925\n",
      "\n",
      "Accuracy of model with k = 3: 0.6302702702702703%\n",
      "\n",
      "\n",
      "[[299 128]\n",
      " [214 284]]\n",
      "              precision    recall  f1-score   support\n",
      "\n",
      "       False       0.58      0.70      0.64       427\n",
      "        True       0.69      0.57      0.62       498\n",
      "\n",
      "    accuracy                           0.63       925\n",
      "   macro avg       0.64      0.64      0.63       925\n",
      "weighted avg       0.64      0.63      0.63       925\n",
      "\n",
      "Accuracy of model with k = 5: 0.6097297297297297%\n",
      "\n",
      "\n",
      "[[284 143]\n",
      " [218 280]]\n",
      "              precision    recall  f1-score   support\n",
      "\n",
      "       False       0.57      0.67      0.61       427\n",
      "        True       0.66      0.56      0.61       498\n",
      "\n",
      "    accuracy                           0.61       925\n",
      "   macro avg       0.61      0.61      0.61       925\n",
      "weighted avg       0.62      0.61      0.61       925\n",
      "\n",
      "Accuracy of model with k = 7: 0.5956756756756757%\n",
      "\n",
      "\n",
      "[[266 161]\n",
      " [213 285]]\n",
      "              precision    recall  f1-score   support\n",
      "\n",
      "       False       0.56      0.62      0.59       427\n",
      "        True       0.64      0.57      0.60       498\n",
      "\n",
      "    accuracy                           0.60       925\n",
      "   macro avg       0.60      0.60      0.60       925\n",
      "weighted avg       0.60      0.60      0.60       925\n",
      "\n",
      "Accuracy of model with k = 9: 0.5762162162162162%\n",
      "\n",
      "\n",
      "[[260 167]\n",
      " [225 273]]\n",
      "              precision    recall  f1-score   support\n",
      "\n",
      "       False       0.54      0.61      0.57       427\n",
      "        True       0.62      0.55      0.58       498\n",
      "\n",
      "    accuracy                           0.58       925\n",
      "   macro avg       0.58      0.58      0.58       925\n",
      "weighted avg       0.58      0.58      0.58       925\n",
      "\n",
      "Accuracy of model with k = 15: 0.5610810810810811%\n",
      "\n",
      "\n",
      "[[239 188]\n",
      " [218 280]]\n",
      "              precision    recall  f1-score   support\n",
      "\n",
      "       False       0.52      0.56      0.54       427\n",
      "        True       0.60      0.56      0.58       498\n",
      "\n",
      "    accuracy                           0.56       925\n",
      "   macro avg       0.56      0.56      0.56       925\n",
      "weighted avg       0.56      0.56      0.56       925\n",
      "\n",
      "Accuracy of model with k = 20: 0.5383783783783784%\n",
      "\n",
      "\n",
      "[[255 172]\n",
      " [255 243]]\n",
      "              precision    recall  f1-score   support\n",
      "\n",
      "       False       0.50      0.60      0.54       427\n",
      "        True       0.59      0.49      0.53       498\n",
      "\n",
      "    accuracy                           0.54       925\n",
      "   macro avg       0.54      0.54      0.54       925\n",
      "weighted avg       0.55      0.54      0.54       925\n",
      "\n"
     ]
    }
   ],
   "source": [
    "from sklearn.neighbors import KNeighborsClassifier\n",
    "from sklearn.metrics import accuracy_score\n",
    "from sklearn.metrics import confusion_matrix, classification_report\n",
    "k_values = [1, 3, 5, 7, 9, 15, 20]\n",
    "\n",
    "#For each k value, getting accruacy and confusion matrix\n",
    "for k in k_values:\n",
    "    knn = KNeighborsClassifier(n_neighbors = k)\n",
    "    knn.fit(attr_train, target_train)\n",
    "    target_pred = knn.predict(attr_test)\n",
    "#     accuracy = round(np.mean(target_test==target_pred ) * 100, 2)\n",
    "    accuracy = accuracy_score(target_test,target_pred ) \n",
    "    print(f'Accuracy of model with k = {k}: {accuracy}%')\n",
    "    print('')\n",
    "    print('')\n",
    "    print(confusion_matrix(target_test,target_pred))\n",
    "    print(classification_report(target_test,target_pred))"
   ]
  },
  {
   "cell_type": "code",
   "execution_count": 8,
   "id": "636a0002",
   "metadata": {},
   "outputs": [
    {
     "data": {
      "image/png": "[encoded data removed]",
      "text/plain": [
       "<Figure size 640x480 with 1 Axes>"
      ]
     },
     "metadata": {},
     "output_type": "display_data"
    }
   ],
   "source": [
    "import matplotlib.pyplot as plt\n",
    "\n",
    "accuracies = []\n",
    "for k in range(1, 30):\n",
    "    knn = KNeighborsClassifier(n_neighbors=k)\n",
    "    knn.fit(attr_train, target_train)\n",
    "    target_pred = knn.predict(attr_test)\n",
    "    accuracies.append(accuracy_score(target_test, target_pred))\n",
    "\n",
    "plt.plot(range(1, 30), accuracies, marker='o')\n",
    "plt.title('Accuracy vs. Number of Neighbors (k)')\n",
    "plt.xlabel('Number of Neighbors (k)')\n",
    "plt.ylabel('Accuracy')\n",
    "plt.grid()\n",
    "plt.show()"
   ]
  }
 ],
 "metadata": {
  "kernelspec": {
   "display_name": "Python 3",
   "language": "python",
   "name": "python3"
  },
  "language_info": {
   "codemirror_mode": {
    "name": "ipython",
    "version": 3
   },
   "file_extension": ".py",
   "mimetype": "text/x-python",
   "name": "python",
   "nbconvert_exporter": "python",
   "pygments_lexer": "ipython3",
   "version": "3.12.0"
  }
 },
 "nbformat": 4,
 "nbformat_minor": 5
}
